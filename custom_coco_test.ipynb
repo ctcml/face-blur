{
 "cells": [
  {
   "cell_type": "code",
   "execution_count": 1,
   "metadata": {},
   "outputs": [
    {
     "data": {
      "text/plain": [
       "14"
      ]
     },
     "execution_count": 1,
     "metadata": {},
     "output_type": "execute_result"
    }
   ],
   "source": [
    "# Loading in the json file from inference\n",
    "import json\n",
    "import os\n",
    "\n",
    "with open('data/test/single_img_annotations.json') as f:\n",
    "    img_data = json.load(f)\n",
    "    \n",
    "len(img_data['annotations'])"
   ]
  },
  {
   "cell_type": "code",
   "execution_count": 2,
   "metadata": {},
   "outputs": [],
   "source": [
    "from pycococreatortools import pycococreatortools\n",
    "import datetime\n",
    "import numpy as np"
   ]
  },
  {
   "cell_type": "code",
   "execution_count": 3,
   "metadata": {},
   "outputs": [],
   "source": [
    "# meta data for COCO\n",
    "INFO = {\n",
    "    \"description\": \"Test Dataset\",\n",
    "    \"url\": \"\",\n",
    "    \"version\": \"0.1.0\",\n",
    "    \"year\": 2019,\n",
    "    \"contributor\": \"\",\n",
    "    \"date_created\": datetime.datetime.now().isoformat(' ')\n",
    "}\n",
    "\n",
    "LICENSES = [\n",
    "    {\n",
    "        \"id\": 1,\n",
    "        \"name\": \"Attribution-NonCommercial-ShareAlike License\",\n",
    "        \"url\": \"http://creativecommons.org/licenses/by-nc-sa/2.0/\"\n",
    "    }\n",
    "]\n",
    "\n",
    "CATEGORIES = [\n",
    "    {\n",
    "        'id': 1,\n",
    "        'name': 'people',\n",
    "        'supercategory': 'people',\n",
    "    },\n",
    "]\n",
    "\n",
    "image_id = 1\n",
    "image_info = pycococreatortools.create_image_info(\n",
    "                image_id, img_data['img_path'], img_data['img_size'])"
   ]
  },
  {
   "cell_type": "code",
   "execution_count": 4,
   "metadata": {},
   "outputs": [],
   "source": [
    "# Constructing the training annotations in COCO format\n",
    "coco_output = {\n",
    "    \"info\": INFO,\n",
    "    \"licenses\": LICENSES,\n",
    "    \"categories\": CATEGORIES,\n",
    "    \"images\": [image_info],\n",
    "    \"annotations\": []\n",
    "}\n",
    "\n",
    "segmentation_id = 1\n",
    "for annotation in img_data['annotations']:\n",
    "    category_info = {'id': annotation['pred_classes'], 'is_crowd': 0}\n",
    "    annotation_info = pycococreatortools.create_annotation_info(\n",
    "        segmentation_id,\n",
    "        image_id,\n",
    "        category_info,\n",
    "        np.array(annotation['pred_masks']),\n",
    "        img_data['img_size'],\n",
    "        tolerance=2,\n",
    "        bounding_box=np.array(annotation['pred_boxes'])\n",
    "    )\n",
    "    if annotation_info is not None:\n",
    "        coco_output[\"annotations\"].append(annotation_info)\n",
    "\n",
    "    segmentation_id = segmentation_id + 1"
   ]
  }
 ],
 "metadata": {
  "kernelspec": {
   "display_name": "face-blur",
   "language": "python",
   "name": "face-blur"
  },
  "language_info": {
   "codemirror_mode": {
    "name": "ipython",
    "version": 3
   },
   "file_extension": ".py",
   "mimetype": "text/x-python",
   "name": "python",
   "nbconvert_exporter": "python",
   "pygments_lexer": "ipython3",
   "version": "3.7.4"
  }
 },
 "nbformat": 4,
 "nbformat_minor": 2
}
