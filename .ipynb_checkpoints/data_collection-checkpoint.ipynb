{
 "cells": [
  {
   "cell_type": "code",
   "execution_count": 1,
   "metadata": {},
   "outputs": [],
   "source": [
    "from google_images_download import google_images_download"
   ]
  },
  {
   "cell_type": "code",
   "execution_count": 2,
   "metadata": {},
   "outputs": [],
   "source": [
    "# Constants\n",
    "DATA_DIR = 'data'\n",
    "DOWNLOAD_DIR = 'raw'"
   ]
  },
  {
   "cell_type": "code",
   "execution_count": 3,
   "metadata": {},
   "outputs": [
    {
     "name": "stdout",
     "output_type": "stream",
     "text": [
      "\n",
      "Item no.: 1 --> Item name = hong kong police brutality\n",
      "Evaluating...\n",
      "Starting Download...\n",
      "Completed Image ====> 1.cad7d6e8-9031-11e9-b2aa-5ba392ab87ab_image_hires_004356.jpg\n",
      "Completed Image ====> 2.4813acb8-8de9-11e9-b2aa-5ba392ab87ab_image_hires_213611.jpg\n",
      "Completed Image ====> 3.529db7d0-a227-11e9-9a3c-98259c87fba2_image_hires_131229.jpg\n",
      "Completed Image ====> 4.201b894c-a69e-11e9-8d5c-2d5b58977904_image_hires_143756.JPG\n",
      "Completed Image ====> 5.5000.jpg\n",
      "Completed Image ====> 6.gettyimages-1155565705_1_.jpg\n",
      "Completed Image ====> 7.hong-kong-police-1.jpg\n",
      "Completed Image ====> 8.220px-2019-09-29_%E5%85%A8%E7%90%83%E5%8F%8D%E6%A5%B5%E6%AC%8A%E5%A4%A7%E9%81%8A%E8%A1%8C_Anti-totalitarianism_rally_%28Hong_Kong%29_062.jpg\n",
      "Completed Image ====> 9._107497402_054591752-1.jpg\n",
      "Completed Image ====> 10.3000.jpeg\n",
      "\n",
      "Errors: 0\n",
      "\n",
      "\n",
      "Item no.: 2 --> Item name =  hong kong arrest\n",
      "Evaluating...\n",
      "Starting Download...\n",
      "\n",
      "\n",
      "Unfortunately all 10 could not be downloaded because some images were not downloadable. 0 is all we got for this search filter!\n",
      "\n",
      "Errors: 0\n",
      "\n"
     ]
    },
    {
     "data": {
      "text/plain": [
       "({'hong kong police brutality': ['/home/ting/Projects/face-blur/data/raw/1.cad7d6e8-9031-11e9-b2aa-5ba392ab87ab_image_hires_004356.jpg',\n",
       "   '/home/ting/Projects/face-blur/data/raw/2.4813acb8-8de9-11e9-b2aa-5ba392ab87ab_image_hires_213611.jpg',\n",
       "   '/home/ting/Projects/face-blur/data/raw/3.529db7d0-a227-11e9-9a3c-98259c87fba2_image_hires_131229.jpg',\n",
       "   '/home/ting/Projects/face-blur/data/raw/4.201b894c-a69e-11e9-8d5c-2d5b58977904_image_hires_143756.JPG',\n",
       "   '/home/ting/Projects/face-blur/data/raw/5.5000.jpg',\n",
       "   '/home/ting/Projects/face-blur/data/raw/6.gettyimages-1155565705_1_.jpg',\n",
       "   '/home/ting/Projects/face-blur/data/raw/7.hong-kong-police-1.jpg',\n",
       "   '/home/ting/Projects/face-blur/data/raw/8.220px-2019-09-29_%E5%85%A8%E7%90%83%E5%8F%8D%E6%A5%B5%E6%AC%8A%E5%A4%A7%E9%81%8A%E8%A1%8C_Anti-totalitarianism_rally_%28Hong_Kong%29_062.jpg',\n",
       "   '/home/ting/Projects/face-blur/data/raw/9._107497402_054591752-1.jpg',\n",
       "   '/home/ting/Projects/face-blur/data/raw/10.3000.jpeg'],\n",
       "  ' hong kong arrest': []},\n",
       " 0)"
      ]
     },
     "execution_count": 3,
     "metadata": {},
     "output_type": "execute_result"
    }
   ],
   "source": [
    "# Download images from google using google_images_download\n",
    "response = google_images_download.googleimagesdownload()\n",
    "\n",
    "arguments = {\n",
    "    \"keywords\":\"hong kong police brutality, hong kong arrest\",\n",
    "    \"limit\": 10,\n",
    "    \"output_directory\": DATA_DIR,\n",
    "    \"image_directory\": DOWNLOAD_DIR\n",
    "}\n",
    "response.download(arguments)"
   ]
  }
 ],
 "metadata": {
  "kernelspec": {
   "display_name": "face-blur",
   "language": "python",
   "name": "face-blur"
  },
  "language_info": {
   "codemirror_mode": {
    "name": "ipython",
    "version": 3
   },
   "file_extension": ".py",
   "mimetype": "text/x-python",
   "name": "python",
   "nbconvert_exporter": "python",
   "pygments_lexer": "ipython3",
   "version": "3.7.4"
  }
 },
 "nbformat": 4,
 "nbformat_minor": 2
}
