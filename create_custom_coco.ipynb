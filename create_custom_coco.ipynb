{
 "cells": [
  {
   "cell_type": "code",
   "execution_count": 1,
   "metadata": {},
   "outputs": [],
   "source": [
    "import custom_coco_helper as helper\n",
    "import os"
   ]
  },
  {
   "cell_type": "code",
   "execution_count": 2,
   "metadata": {},
   "outputs": [],
   "source": [
    "# Constants\n",
    "DATA_DIR = 'data'\n",
    "DOWNLOAD_DIR = 'raw'\n",
    "IMAGE_PATH = os.path.join(os.getcwd(), DATA_DIR, DOWNLOAD_DIR)"
   ]
  },
  {
   "cell_type": "code",
   "execution_count": 3,
   "metadata": {
    "scrolled": true
   },
   "outputs": [],
   "source": [
    "predictor = helper.MyPredictor(IMAGE_PATH)"
   ]
  },
  {
   "cell_type": "code",
   "execution_count": 4,
   "metadata": {},
   "outputs": [],
   "source": [
    "categories = [\n",
    "    {\n",
    "        'id': 1,\n",
    "        'name': 'people',\n",
    "        'supercategory': 'people',\n",
    "    },\n",
    "]"
   ]
  },
  {
   "cell_type": "code",
   "execution_count": 5,
   "metadata": {},
   "outputs": [],
   "source": [
    "next_seg_id = 1\n",
    "annotations = []\n",
    "imgs_info = []\n",
    "my_instances = []\n",
    "for i in range(2):\n",
    "    img = predictor.read_im(i)\n",
    "    results = predictor.inference(img)\n",
    "    next_seg_id, instances = helper.MyInstance.create_instances(i, next_seg_id, predictor.get_img_path[i], results, keep_cats=[0])\n",
    "    imgs_info.append(instances[0].coco_img_info())\n",
    "    for instance in instances:\n",
    "        my_instances.append(instance)\n",
    "        annotation = instance.coco_annotation()\n",
    "        if annotation is not None:\n",
    "            annotations.append(annotation)"
   ]
  }
 ],
 "metadata": {
  "kernelspec": {
   "display_name": "face-blur",
   "language": "python",
   "name": "face-blur"
  },
  "language_info": {
   "codemirror_mode": {
    "name": "ipython",
    "version": 3
   },
   "file_extension": ".py",
   "mimetype": "text/x-python",
   "name": "python",
   "nbconvert_exporter": "python",
   "pygments_lexer": "ipython3",
   "version": "3.7.4"
  }
 },
 "nbformat": 4,
 "nbformat_minor": 2
}
