{
 "cells": [
  {
   "cell_type": "code",
   "execution_count": 1,
   "metadata": {},
   "outputs": [],
   "source": [
    "import custom_coco_helper as helper\n",
    "import os\n",
    "import json"
   ]
  },
  {
   "cell_type": "code",
   "execution_count": 2,
   "metadata": {},
   "outputs": [],
   "source": [
    "# Constants\n",
    "\n",
    "DATA_DIR = 'data'\n",
    "\n",
    "# dir for raw images\n",
    "DOWNLOAD_DIR = 'raw'\n",
    "IMAGE_PATH = os.path.join(os.getcwd(), DATA_DIR, DOWNLOAD_DIR)\n",
    "\n",
    "# dir for intermediate files\n",
    "IN_PROGRESS_DIR = 'in_progress'\n",
    "IN_PROGRESS_PATH = os.path.join(os.getcwd(), DATA_DIR, IN_PROGRESS_DIR)\n",
    "\n",
    "# intermediate files\n",
    "FINISHED_PATH = os.path.join(IN_PROGRESS_PATH, 'finished.txt')\n",
    "ANNOTATIONS_PATH = os.path.join(IN_PROGRESS_PATH, 'annotations.txt')\n",
    "IMG_INFO_PATH = os.path.join(IN_PROGRESS_PATH, 'img_info.txt')"
   ]
  },
  {
   "cell_type": "code",
   "execution_count": 3,
   "metadata": {
    "scrolled": true
   },
   "outputs": [],
   "source": [
    "predictor = helper.MyPredictor(IMAGE_PATH)"
   ]
  },
  {
   "cell_type": "code",
   "execution_count": 4,
   "metadata": {},
   "outputs": [],
   "source": [
    "categories = [\n",
    "    {\n",
    "        'id': 1,\n",
    "        'name': 'people',\n",
    "        'supercategory': 'people',\n",
    "    },\n",
    "]"
   ]
  },
  {
   "cell_type": "code",
   "execution_count": 5,
   "metadata": {},
   "outputs": [],
   "source": [
    "next_seg_id = 1\n",
    "annotations = []\n",
    "imgs_info = []\n",
    "my_instances = []\n",
    "\n",
    "# Reading in previous processed img paths\n",
    "with open(FINISHED_PATH, 'r') as f:\n",
    "    finished_img_paths = f.readlines()\n",
    "\n",
    "finished_file = open(FINISHED_PATH, 'a')\n",
    "annotations_file = open(ANNOTATIONS_PATH, 'a')\n",
    "img_info_file = open(IMG_INFO_PATH, 'a')\n",
    "\n",
    "# Process 1 image per iteration\n",
    "for i in range(2):\n",
    "    # Skip if img was processed before\n",
    "    img_path = predictor.get_img_path(i)\n",
    "    if img_path in finished_img_paths:\n",
    "        continue\n",
    "        \n",
    "    img = predictor.read_img(i)\n",
    "    results = predictor.inference(img)\n",
    "    next_seg_id, instances = helper.MyInstance.create_instances(i, next_seg_id, img_path, results, keep_cats=[0])\n",
    "    imgs_info.append(instances[0].coco_img_info())\n",
    "    \n",
    "    # Display each people instance one by one for relabelling\n",
    "    for instance in instances:\n",
    "        predictor.visualize(img, instance)\n",
    "        my_instances.append(instance)\n",
    "        annotation = instance.coco_annotation()\n",
    "        if annotation is not None:\n",
    "            annotations_file.write(json.dumps(annotation) + '\\n')\n",
    "            \n",
    "    img_info_file.write(json.dumps(instances[0].coco_img_info()) + '\\n')\n",
    "    finished_file.write(img_path + '\\n')\n",
    "    \n",
    "img_info_file.close()\n",
    "finished_file.close()\n",
    "annotations_file.close()"
   ]
  }
 ],
 "metadata": {
  "kernelspec": {
   "display_name": "face-blur",
   "language": "python",
   "name": "face-blur"
  },
  "language_info": {
   "codemirror_mode": {
    "name": "ipython",
    "version": 3
   },
   "file_extension": ".py",
   "mimetype": "text/x-python",
   "name": "python",
   "nbconvert_exporter": "python",
   "pygments_lexer": "ipython3",
   "version": "3.7.4"
  }
 },
 "nbformat": 4,
 "nbformat_minor": 2
}
